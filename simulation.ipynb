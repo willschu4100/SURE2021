{
 "cells": [
  {
   "cell_type": "code",
   "execution_count": 1,
   "metadata": {},
   "outputs": [
    {
     "name": "stdout",
     "output_type": "stream",
     "text": [
      "Populating the interactive namespace from numpy and matplotlib\n"
     ]
    }
   ],
   "source": [
    "import numpy as np\n",
    "import matplotlib.pyplot as plt\n",
    "import matplotlib.animation as animation\n",
    "import pandas as pd\n",
    "import math\n",
    "import simulation as sim\n",
    "from scipy import interpolate\n",
    "plt.rcParams[\"animation.html\"] = \"jshtml\"\n",
    "%pylab inline"
   ]
  },
  {
   "cell_type": "markdown",
   "metadata": {},
   "source": [
    "# Infer Current Test"
   ]
  },
  {
   "cell_type": "code",
   "execution_count": 2,
   "metadata": {},
   "outputs": [
    {
     "name": "stdout",
     "output_type": "stream",
     "text": [
      "5.816400000000018 -56.084685523174365 4.965843392795668e-10\n"
     ]
    },
    {
     "name": "stderr",
     "output_type": "stream",
     "text": [
      "C:\\Users\\wills\\Anaconda3\\lib\\site-packages\\numpy\\core\\fromnumeric.py:56: FutureWarning: \n",
      "The current behaviour of 'Series.argmax' is deprecated, use 'idxmax'\n",
      "instead.\n",
      "The behavior of 'argmax' will be corrected to return the positional\n",
      "maximum in the future. For now, use 'series.values.argmax' or\n",
      "'np.argmax(np.array(values))' to get the position of the maximum\n",
      "row.\n",
      "  return getattr(obj, method)(*args, **kwds)\n"
     ]
    },
    {
     "data": {
      "image/png": "[encoded data removed]",
      "text/plain": [
       "<Figure size 432x288 with 1 Axes>"
      ]
     },
     "metadata": {
      "needs_background": "light"
     },
     "output_type": "display_data"
    }
   ],
   "source": [
    "def I(z):\n",
    "    #return -1.9e-9*exp(-1.4*(z-5.6)**2) + 2e-9*exp(-2.15*(z-5.7)**2) + -.04e-9*exp(-5*(z-7.5)**2)\n",
    "    return 5e-10*exp(-2.15*(z-5.7)**2)\n",
    "    #return 5e-10*exp(-(z-5.7)**2/2*.48224**2)\n",
    "asc_rate = .00444\n",
    "z0 = 0\n",
    "dz = 1\n",
    "payloads = 2\n",
    "delay = 1400-1167\n",
    "startTime = 0\n",
    "dt = 10\n",
    "LightningTimes =[] #[1400]\n",
    "LightningMag =[] #[-50]\n",
    "LightningPos =[] #[5.7]\n",
    "LightningWidth =[] #[.5]\n",
    "a, b, c, d, e = sim.RunSimulation(asc_rate, z0, dz, payloads, delay, startTime, dt, I, LightningTimes, LightningMag, LightningPos, LightningWidth)\n",
    "#sim.MakePlotsReversed(a, b, c, payloads)\n",
    "sim.MakePlots(a, b, c, payloads)\n",
    "#anim = sim.RunAnimation(a, b, d, e)\n",
    "#anim\n",
    "sim.InferCurrent(a, b, c)"
   ]
  },
  {
   "cell_type": "markdown",
   "metadata": {},
   "source": [
    "# Lightning Between Both Payloads"
   ]
  },
  {
   "cell_type": "markdown",
   "metadata": {},
   "source": [
    "Make plots with more payloads, slightly smaller variations in lightning parameters, more simulation-simulation comparisons. Infer what the current of a storm is based on the change in electric field? Maybe put in random number generators at some point"
   ]
  },
  {
   "cell_type": "code",
   "execution_count": null,
   "metadata": {
    "scrolled": false
   },
   "outputs": [],
   "source": [
    "def I(z):\n",
    "    #return -1.9e-9*exp(-1.4*(z-5.6)**2) + 2e-9*exp(-2.15*(z-5.7)**2) + -.04e-9*exp(-5*(z-7.5)**2)\n",
    "    return 5e-10*exp(-2.15*(z-5.7)**2)\n",
    "    #return 5e-10*exp(-(z-5.7)**2/2*.48224**2)\n",
    "asc_rate = .00444\n",
    "z0 = 0\n",
    "dz = 1\n",
    "payloads = 2\n",
    "delay = 1400-1167\n",
    "startTime = 0\n",
    "dt = 10\n",
    "LightningTimes =[1400]\n",
    "LightningMag =[-50]\n",
    "LightningPos =[5.7]\n",
    "LightningWidth =[.5]\n",
    "a, b, c, d, e = sim.RunSimulation(asc_rate, z0, dz, payloads, delay, startTime, dt, I, LightningTimes, LightningMag, LightningPos, LightningWidth)\n",
    "#sim.MakePlotsReversed(a, b, c, payloads)\n",
    "sim.MakePlots(a, b, c, payloads)\n",
    "#anim = sim.RunAnimation(a, b, d, e)\n",
    "#anim"
   ]
  },
  {
   "cell_type": "markdown",
   "metadata": {},
   "source": [
    "In this plot, the lightning strike occurs when both payloads are inside the negative charge region. Both payloads record a drastic change in the electric field. Since payload 1 was leaving the center of the negative charge region, the electric field it records doesn't increase again after the strike. Since payload 2 was entering the center of the negative charge region, the electric field suddenly shot down once the lightning strike occured, but then started to increase again as the payload reached the center of the negative charge region."
   ]
  },
  {
   "cell_type": "code",
   "execution_count": null,
   "metadata": {},
   "outputs": [],
   "source": [
    "def I(z):\n",
    "    #return -1.9e-9*exp(-1.4*(z-5.6)**2) + 2e-9*exp(-2.15*(z-5.7)**2) + -.04e-9*exp(-5*(z-7.5)**2)\n",
    "    return 5e-10*exp(-2.15*(z-5.7)**2)\n",
    "    #return 5e-10*exp(-(z-5.7)**2/2*.48224**2)\n",
    "asc_rate = .00444\n",
    "z0 = 0\n",
    "dz = 1\n",
    "payloads = 4\n",
    "delay = 1400-1167\n",
    "startTime = 0\n",
    "dt = 10\n",
    "LightningTimes = [1650]\n",
    "LightningMag = [-50]\n",
    "LightningPos = [5.7]\n",
    "LightningWidth = [.5]\n",
    "a, b, c, d, e = sim.RunSimulation(asc_rate, z0, dz, payloads, delay, startTime, dt, I, LightningTimes, LightningMag, LightningPos, LightningWidth)\n",
    "#sim.MakePlotsReversed(a, b, c, payloads)\n",
    "sim.MakePlots(a, b, c, payloads)\n",
    "anim = sim.RunAnimation(a, b, d, e)\n",
    "anim"
   ]
  },
  {
   "cell_type": "code",
   "execution_count": null,
   "metadata": {},
   "outputs": [],
   "source": [
    "def I(z):\n",
    "    #return -1.9e-9*exp(-1.4*(z-5.6)**2) + 2e-9*exp(-2.15*(z-5.7)**2) + -.04e-9*exp(-5*(z-7.5)**2)\n",
    "    return 5e-10*exp(-2.15*(z-5.7)**2)\n",
    "    #return 5e-10*exp(-(z-5.7)**2/2*.48224**2)\n",
    "asc_rate = .00444\n",
    "z0 = 0\n",
    "dz = 1\n",
    "payloads = 2\n",
    "delay = 1400-1167\n",
    "startTime = 0\n",
    "dt = 10\n",
    "LightningTimes = [1400]\n",
    "LightningMag = [-50]\n",
    "LightningPos = [5.7]\n",
    "LightningWidth = [2]\n",
    "a, b, c, d, e = sim.RunSimulation(asc_rate, z0, dz, payloads, delay, startTime, dt, I, LightningTimes, LightningMag, LightningPos, LightningWidth)\n",
    "sim.MakePlots(a, b, c, payloads)\n",
    "#plt.axes().set_aspect(30000)\n",
    "anim = sim.RunAnimation(a, b, d, e)\n",
    "anim"
   ]
  },
  {
   "cell_type": "code",
   "execution_count": null,
   "metadata": {},
   "outputs": [],
   "source": [
    "sim.SaveAnimationGif(anim)"
   ]
  },
  {
   "cell_type": "code",
   "execution_count": null,
   "metadata": {},
   "outputs": [],
   "source": [
    "sim.SaveAnimationHTML(anim)"
   ]
  },
  {
   "cell_type": "markdown",
   "metadata": {},
   "source": [
    "# Lightning Far Above Both Payloads"
   ]
  },
  {
   "cell_type": "code",
   "execution_count": null,
   "metadata": {
    "scrolled": false
   },
   "outputs": [],
   "source": [
    "def I(z):\n",
    "    #return -1.9e-9*exp(-1.4*(z-5.6)**2) + 2e-9*exp(-2.15*(z-5.7)**2) + -.04e-9*exp(-5*(z-7.5)**2)\n",
    "    return 5e-10*exp(-2.15*(z-5.7)**2)\n",
    "asc_rate = .00444\n",
    "z0 = 0\n",
    "dz = 1\n",
    "payloads = 2\n",
    "delay = 400\n",
    "startTime = 0\n",
    "dt = 10\n",
    "LightningTimes = [800]\n",
    "LightningMag = [-50]\n",
    "LightningPos = [5.7]\n",
    "LightningWidth = [.5]\n",
    "a, b, c, d, e = sim.RunSimulation(asc_rate, z0, dz, payloads, delay, startTime, dt, I, LightningTimes, LightningMag, LightningPos, LightningWidth)\n",
    "sim.MakePlots(a, b, c, payloads)\n",
    "sim.RunAnimation(a, b, d, e)"
   ]
  },
  {
   "cell_type": "markdown",
   "metadata": {},
   "source": [
    "In this plot, the lightning strike happens before the payloads get inside the storm, and it's too narrow for either payload to detect a sudden change in the electric field. In this circumstance, it's practically impossible to tell that a lightning strike took place at all."
   ]
  },
  {
   "cell_type": "code",
   "execution_count": null,
   "metadata": {},
   "outputs": [],
   "source": [
    "def I(z):\n",
    "    #return -1.9e-9*exp(-1.4*(z-5.6)**2) + 2e-9*exp(-2.15*(z-5.7)**2) + -.04e-9*exp(-5*(z-7.5)**2)\n",
    "    return 5e-10*exp(-2.15*(z-5.7)**2)\n",
    "asc_rate = .00444\n",
    "z0 = 0\n",
    "dz = 1\n",
    "payloads = 2\n",
    "delay = 400\n",
    "startTime = 0\n",
    "dt = 10\n",
    "LightningTimes = [800]\n",
    "LightningMag = [-50]\n",
    "LightningPos = [5.7]\n",
    "LightningWidth = [1]\n",
    "a, b, c, d, e = sim.RunSimulation(asc_rate, z0, dz, payloads, delay, startTime, dt, I, LightningTimes, LightningMag, LightningPos, LightningWidth)\n",
    "sim.MakePlots(a, b, c, payloads)\n",
    "sim.RunAnimation(a, b, d, e)"
   ]
  },
  {
   "cell_type": "markdown",
   "metadata": {},
   "source": [
    "In this plot, the lightning strike is barely large enough to effect payload one, which shows a slight sudden change in the electric field. However, the lightning strike wasn't large enough to affect payload two, which doesn't record a sudden change in the electric field. Instead, payload two records the aftermath of the lightning strike."
   ]
  },
  {
   "cell_type": "code",
   "execution_count": null,
   "metadata": {},
   "outputs": [],
   "source": [
    "def I(z):\n",
    "    #return -1.9e-9*exp(-1.4*(z-5.6)**2) + 2e-9*exp(-2.15*(z-5.7)**2) + -.04e-9*exp(-5*(z-7.5)**2)\n",
    "    return 5e-10*exp(-2.15*(z-5.7)**2)\n",
    "asc_rate = .00444\n",
    "z0 = 0\n",
    "dz = 1\n",
    "payloads = 2\n",
    "delay = 400\n",
    "startTime = 0\n",
    "dt = 10\n",
    "LightningTimes = [800]\n",
    "LightningMag = [-50]\n",
    "LightningPos = [5.7]\n",
    "LightningWidth = [1.5]\n",
    "a, b, c, d, e = sim.RunSimulation(asc_rate, z0, dz, payloads, delay, startTime, dt, I, LightningTimes, LightningMag, LightningPos, LightningWidth)\n",
    "sim.MakePlots(a, b, c, payloads)\n",
    "sim.RunAnimation(a, b, d, e)"
   ]
  },
  {
   "cell_type": "markdown",
   "metadata": {},
   "source": [
    "In this plot, the lightning strike is wider than the last plot, so it strongly affects payload one, and slightly affects payload two."
   ]
  },
  {
   "cell_type": "markdown",
   "metadata": {},
   "source": [
    "# Lightning Above Both Payloads"
   ]
  },
  {
   "cell_type": "code",
   "execution_count": null,
   "metadata": {},
   "outputs": [],
   "source": [
    "def I(z):\n",
    "    #return -1.9e-9*exp(-1.4*(z-5.6)**2) + 2e-9*exp(-2.15*(z-5.7)**2) + -.04e-9*exp(-5*(z-7.5)**2)\n",
    "    return 5e-10*exp(-2.15*(z-5.7)**2)\n",
    "asc_rate = .00444\n",
    "z0 = 0\n",
    "dz = 1\n",
    "payloads = 2\n",
    "delay = 400\n",
    "startTime = 0\n",
    "dt = 10\n",
    "LightningTimes = [1100]\n",
    "LightningMag = [-50]\n",
    "LightningPos = [5.7]\n",
    "LightningWidth = [.5]\n",
    "a, b, c, d, e = sim.RunSimulation(asc_rate, z0, dz, payloads, delay, startTime, dt, I, LightningTimes, LightningMag, LightningPos, LightningWidth)\n",
    "sim.MakePlots(a, b, c, payloads)\n",
    "sim.RunAnimation(a, b, d, e)"
   ]
  },
  {
   "cell_type": "code",
   "execution_count": null,
   "metadata": {},
   "outputs": [],
   "source": [
    "def I(z):\n",
    "    #return -1.9e-9*exp(-1.4*(z-5.6)**2) + 2e-9*exp(-2.15*(z-5.7)**2) + -.04e-9*exp(-5*(z-7.5)**2)\n",
    "    return 5e-10*exp(-2.15*(z-5.7)**2)\n",
    "asc_rate = .00444\n",
    "z0 = 0\n",
    "dz = 1\n",
    "payloads = 2\n",
    "delay = 400\n",
    "startTime = 0\n",
    "dt = 10\n",
    "LightningTimes = [1100]\n",
    "LightningMag = [-50]\n",
    "LightningPos = [5.7]\n",
    "LightningWidth = [1]\n",
    "a, b, c, d, e = sim.RunSimulation(asc_rate, z0, dz, payloads, delay, startTime, dt, I, LightningTimes, LightningMag, LightningPos, LightningWidth)\n",
    "sim.MakePlots(a, b, c, payloads)\n",
    "sim.RunAnimation(a, b, d, e)"
   ]
  },
  {
   "cell_type": "markdown",
   "metadata": {},
   "source": [
    "# Lightning Below Both Payloads"
   ]
  },
  {
   "cell_type": "code",
   "execution_count": null,
   "metadata": {},
   "outputs": [],
   "source": [
    "def I(z):\n",
    "    #return -1.9e-9*exp(-1.4*(z-5.6)**2) + 2e-9*exp(-2.15*(z-5.7)**2) + -.04e-9*exp(-5*(z-7.5)**2)\n",
    "    return 5e-10*exp(-2.15*(z-5.7)**2)\n",
    "asc_rate = .00444\n",
    "z0 = 0\n",
    "dz = 1\n",
    "payloads = 2\n",
    "delay = 500\n",
    "startTime = 0\n",
    "dt = 10\n",
    "LightningTimes = [2000]\n",
    "LightningMag = [-50]\n",
    "LightningPos = [5.7]\n",
    "LightningWidth = [1]\n",
    "a, b, c, d, e = sim.RunSimulation(asc_rate, z0, dz, payloads, delay, startTime, dt, I, LightningTimes, LightningMag, LightningPos, LightningWidth)\n",
    "sim.MakePlots(a, b, c, payloads)\n",
    "#plt.axes().set_aspect(30000)\n",
    "sim.RunAnimation(a, b, d, e)"
   ]
  },
  {
   "cell_type": "markdown",
   "metadata": {},
   "source": [
    "In this plot, the lightning strike happens while both the payloads are above it. The lightning strike is fairly narrow, so payload one doesn't record any significant change in the electric field. Payload two, however, does record a sudden change."
   ]
  },
  {
   "cell_type": "code",
   "execution_count": null,
   "metadata": {},
   "outputs": [],
   "source": [
    "def I(z):\n",
    "    #return -1.9e-9*exp(-1.4*(z-5.6)**2) + 2e-9*exp(-2.15*(z-5.7)**2) + -.04e-9*exp(-5*(z-7.5)**2)\n",
    "    return 5e-10*exp(-2.15*(z-5.7)**2)\n",
    "asc_rate = .00444\n",
    "z0 = 0\n",
    "dz = 1\n",
    "payloads = 2\n",
    "delay = 500\n",
    "startTime = 0\n",
    "dt = 10\n",
    "LightningTimes = [2000]\n",
    "LightningMag = [-50]\n",
    "LightningPos = [5.7]\n",
    "LightningWidth = [2]\n",
    "a, b, c, d, e = sim.RunSimulation(asc_rate, z0, dz, payloads, delay, startTime, dt, I, LightningTimes, LightningMag, LightningPos, LightningWidth)\n",
    "sim.MakePlots(a, b, c, payloads)\n",
    "#plt.axes().set_aspect(30000)\n",
    "sim.RunAnimation(a, b, d, e)"
   ]
  },
  {
   "cell_type": "markdown",
   "metadata": {},
   "source": [
    "Like the last plot, the lightning occurs below both payloads, but here, the lightning strike is wider, so both payloads detect a sudden change in charge. Since payload two is below payload one, it detects a more drastic change."
   ]
  },
  {
   "cell_type": "markdown",
   "metadata": {},
   "source": [
    "# Width Comparison"
   ]
  },
  {
   "cell_type": "code",
   "execution_count": null,
   "metadata": {},
   "outputs": [],
   "source": [
    "def I(z):\n",
    "    #return -1.9e-9*exp(-1.4*(z-5.6)**2) + 2e-9*exp(-2.15*(z-5.7)**2) + -.04e-9*exp(-5*(z-7.5)**2)\n",
    "    return 5e-10*exp(-2.15*(z-5.7)**2)\n",
    "asc_rate = .00444\n",
    "z0 = 0\n",
    "dz = 1\n",
    "payloads = 1\n",
    "delay = 1400-1167\n",
    "startTime = 0\n",
    "dt = 10\n",
    "LightningTimes = [800]\n",
    "LightningMag = [-50]\n",
    "LightningPos = [5.7]\n",
    "LightningWidth = [.3]\n",
    "a, b, c, d, e = sim.RunSimulation(asc_rate, z0, dz, payloads, delay, startTime, dt, I, LightningTimes, LightningMag, LightningPos, LightningWidth)\n",
    "def I(z):\n",
    "    #return -1.9e-9*exp(-1.4*(z-5.6)**2) + 2e-9*exp(-2.15*(z-5.7)**2) + -.04e-9*exp(-5*(z-7.5)**2)\n",
    "    return 5e-10*exp(-2.15*(z-5.7)**2)\n",
    "asc_rate = .00444\n",
    "z0 = 0\n",
    "dz = 1\n",
    "payloads = 1\n",
    "delay = 1400-1167\n",
    "startTime = 0\n",
    "dt = 10\n",
    "LightningTimes = [800]\n",
    "LightningMag = [-50]\n",
    "LightningPos = [5.7]\n",
    "LightningWidth = [.4]\n",
    "f, g, h, i, j = sim.RunSimulation(asc_rate, z0, dz, payloads, delay, startTime, dt, I, LightningTimes, LightningMag, LightningPos, LightningWidth)\n",
    "sim.PlotMultipleSims(a, b, c, f, g, h, payloads)"
   ]
  },
  {
   "cell_type": "code",
   "execution_count": null,
   "metadata": {},
   "outputs": [],
   "source": [
    "def I(z):\n",
    "    #return -1.9e-9*exp(-1.4*(z-5.6)**2) + 2e-9*exp(-2.15*(z-5.7)**2) + -.04e-9*exp(-5*(z-7.5)**2)\n",
    "    return 5e-10*exp(-2.15*(z-5.7)**2)\n",
    "asc_rate = .00444\n",
    "z0 = 0\n",
    "dz = 1\n",
    "payloads = 1\n",
    "delay = 1400-1167\n",
    "startTime = 0\n",
    "dt = 10\n",
    "LightningTimes = [800]\n",
    "LightningMag = [-50]\n",
    "LightningPos = [5.7]\n",
    "LightningWidth = [.4]\n",
    "a, b, c, d, e = sim.RunSimulation(asc_rate, z0, dz, payloads, delay, startTime, dt, I, LightningTimes, LightningMag, LightningPos, LightningWidth)\n",
    "def I(z):\n",
    "    #return -1.9e-9*exp(-1.4*(z-5.6)**2) + 2e-9*exp(-2.15*(z-5.7)**2) + -.04e-9*exp(-5*(z-7.5)**2)\n",
    "    return 5e-10*exp(-2.15*(z-5.7)**2)\n",
    "asc_rate = .00444\n",
    "z0 = 0\n",
    "dz = 1\n",
    "payloads = 1\n",
    "delay = 1400-1167\n",
    "startTime = 0\n",
    "dt = 10\n",
    "LightningTimes = [800]\n",
    "LightningMag = [-50]\n",
    "LightningPos = [5.7]\n",
    "LightningWidth = [.55]\n",
    "f, g, h, i, j = sim.RunSimulation(asc_rate, z0, dz, payloads, delay, startTime, dt, I, LightningTimes, LightningMag, LightningPos, LightningWidth)\n",
    "sim.PlotMultipleSims(a, b, c, f, g, h, payloads)"
   ]
  },
  {
   "cell_type": "markdown",
   "metadata": {},
   "source": [
    "In this plot, simulation 2 has a larger width than simulation one. The overall shape is the same, since the lightning strikes occur at the same position and have the same magnitude. The payloads of both simulations pick up sudden changes in the electric field at the same place. However, since simulation 2's strike is wider, simulation 2's payload picks up a more drastic change than simulation 1's payload."
   ]
  },
  {
   "cell_type": "code",
   "execution_count": null,
   "metadata": {},
   "outputs": [],
   "source": [
    "def I(z):\n",
    "    #return -1.9e-9*exp(-1.4*(z-5.6)**2) + 2e-9*exp(-2.15*(z-5.7)**2) + -.04e-9*exp(-5*(z-7.5)**2)\n",
    "    return 5e-10*exp(-2.15*(z-5.7)**2)\n",
    "asc_rate = .00444\n",
    "z0 = 0\n",
    "dz = 1\n",
    "payloads = 1\n",
    "delay = 1400-1167\n",
    "startTime = 0\n",
    "dt = 10\n",
    "LightningTimes = [800]\n",
    "LightningMag = [-50]\n",
    "LightningPos = [5.7]\n",
    "LightningWidth = [1]\n",
    "a, b, c, d, e = sim.RunSimulation(asc_rate, z0, dz, payloads, delay, startTime, dt, I, LightningTimes, LightningMag, LightningPos, LightningWidth)\n",
    "def I(z):\n",
    "    #return -1.9e-9*exp(-1.4*(z-5.6)**2) + 2e-9*exp(-2.15*(z-5.7)**2) + -.04e-9*exp(-5*(z-7.5)**2)\n",
    "    return 5e-10*exp(-2.15*(z-5.7)**2)\n",
    "asc_rate = .00444\n",
    "z0 = 0\n",
    "dz = 1\n",
    "payloads = 1\n",
    "delay = 1400-1167\n",
    "startTime = 0\n",
    "dt = 10\n",
    "LightningTimes = [800]\n",
    "LightningMag = [-50]\n",
    "LightningPos = [5.7]\n",
    "LightningWidth = [1.5]\n",
    "f, g, h, i, j = sim.RunSimulation(asc_rate, z0, dz, payloads, delay, startTime, dt, I, LightningTimes, LightningMag, LightningPos, LightningWidth)\n",
    "sim.PlotMultipleSims(a, b, c, f, g, h, payloads)"
   ]
  },
  {
   "cell_type": "code",
   "execution_count": null,
   "metadata": {},
   "outputs": [],
   "source": []
  },
  {
   "cell_type": "code",
   "execution_count": null,
   "metadata": {},
   "outputs": [],
   "source": [
    "def I(z):\n",
    "    #return -1.9e-9*exp(-1.4*(z-5.6)**2) + 2e-9*exp(-2.15*(z-5.7)**2) + -.04e-9*exp(-5*(z-7.5)**2)\n",
    "    return 5e-10*exp(-2.15*(z-5.7)**2)\n",
    "    #return 5e-10*exp(-(z-5.7)**2/2*.48224**2)\n",
    "asc_rate = .00444\n",
    "z0 = 0\n",
    "dz = 1\n",
    "payloads = 2\n",
    "delay = 1400-1167\n",
    "startTime = 0\n",
    "dt = 10\n",
    "LightningTimes = [1400]\n",
    "LightningMag = [-50]\n",
    "LightningPos = [5.7]\n",
    "LightningWidth = [.5]\n",
    "a, b, c, d, e = sim.RunSimulation(asc_rate, z0, dz, payloads, delay, startTime, dt, I, LightningTimes, LightningMag, LightningPos, LightningWidth)\n",
    "def I(z):\n",
    "    #return -1.9e-9*exp(-1.4*(z-5.6)**2) + 2e-9*exp(-2.15*(z-5.7)**2) + -.04e-9*exp(-5*(z-7.5)**2)\n",
    "    return 5e-10*exp(-2.15*(z-5.7)**2)\n",
    "    #return 5e-10*exp(-(z-5.7)**2/2*.48224**2)\n",
    "asc_rate = .00444\n",
    "z0 = 0\n",
    "dz = 1\n",
    "payloads = 2\n",
    "delay = 1400-1167\n",
    "startTime = 0\n",
    "dt = 10\n",
    "LightningTimes = [1400]\n",
    "LightningMag = [-50]\n",
    "LightningPos = [5.5]\n",
    "LightningWidth = [.5]\n",
    "f, g, h, i, j = sim.RunSimulation(asc_rate, z0, dz, payloads, delay, startTime, dt, I, LightningTimes, LightningMag, LightningPos, LightningWidth)\n",
    "sim.PlotMultipleSims(a, b, c, f, g, h, payloads)"
   ]
  },
  {
   "cell_type": "code",
   "execution_count": null,
   "metadata": {},
   "outputs": [],
   "source": []
  }
 ],
 "metadata": {
  "kernelspec": {
   "display_name": "Python 3",
   "language": "python",
   "name": "python3"
  },
  "language_info": {
   "codemirror_mode": {
    "name": "ipython",
    "version": 3
   },
   "file_extension": ".py",
   "mimetype": "text/x-python",
   "name": "python",
   "nbconvert_exporter": "python",
   "pygments_lexer": "ipython3",
   "version": "3.7.4"
  }
 },
 "nbformat": 4,
 "nbformat_minor": 2
}
