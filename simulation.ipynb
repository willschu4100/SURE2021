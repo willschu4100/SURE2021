{
 "cells": [
  {
   "cell_type": "code",
   "execution_count": 313,
   "metadata": {},
   "outputs": [
    {
     "name": "stdout",
     "output_type": "stream",
     "text": [
      "Populating the interactive namespace from numpy and matplotlib\n"
     ]
    },
    {
     "data": {
      "text/plain": [
       "<module 'simulation' from 'C:\\\\Users\\\\wills\\\\Desktop\\\\projects\\\\simulation.py'>"
      ]
     },
     "execution_count": 313,
     "metadata": {},
     "output_type": "execute_result"
    }
   ],
   "source": [
    "import numpy as np\n",
    "import importlib\n",
    "import matplotlib.pyplot as plt\n",
    "import matplotlib.animation as animation\n",
    "import pandas as pd\n",
    "import math\n",
    "import simulation as sim\n",
    "from scipy import interpolate\n",
    "plt.rcParams[\"animation.html\"] = \"jshtml\"\n",
    "%pylab inline\n",
    "importlib.reload(sim)"
   ]
  },
  {
   "cell_type": "code",
   "execution_count": 314,
   "metadata": {},
   "outputs": [
    {
     "data": {
      "text/plain": [
       "<matplotlib.legend.Legend at 0x13248c96948>"
      ]
     },
     "execution_count": 314,
     "metadata": {},
     "output_type": "execute_result"
    },
    {
     "data": {
      "image/png": "[encoded data removed]",
      "text/plain": [
       "<Figure size 432x288 with 1 Axes>"
      ]
     },
     "metadata": {
      "needs_background": "light"
     },
     "output_type": "display_data"
    }
   ],
   "source": [
    "def I(z):\n",
    "    #return 0*exp(-(z-5.7)**2/.5)\n",
    "    #return 5e-10*exp(-(z-5.7)**2/1)\n",
    "    return -1.9e-9*exp(-1.4*(z-5.6)**2) + 2e-9*exp(-2.15*(z-5.7)**2) + -.04e-9*exp(-5*(z-7.5)**2)\n",
    "asc_rate = .00444\n",
    "z0 = 0\n",
    "dz = 1\n",
    "payloads = 2\n",
    "delay = 100\n",
    "startTime = 0\n",
    "dt = 10\n",
    "LightningTimes =[1000, 1050,1300, 1500, 1700] #[1400]\n",
    "LightningMag =[-50, -50,-50, -50, -50] #[-50]\n",
    "LightningPos =[5,5, 5, 5, 5.5] #[5.7]\n",
    "LightningWidth =[10,10, 10, 10, 10] #[.5]\n",
    "a, b, c, d, e = sim.RunSimulation(asc_rate, z0, dz, payloads, delay, startTime, dt, I, LightningTimes, LightningMag, LightningPos, LightningWidth)\n",
    "#sim.MakePlots(a, b, c, payloads)\n",
    "LightningTimes =[1000,1050, 1300, 1500, 1700]\n",
    "sim.CalculateCurrent(a, b, c, delay, dt, asc_rate, LightningTimes)\n",
    "#plot(d[-1])\n",
    "#z = linspace(0, i, i-10)\n",
    "#plot(z, 5e-10*exp(-(z-133)**2/200))\n",
    "#h.iloc[137]\n",
    "#127\n",
    "z = linspace(0,20, 100)\n",
    "plot(z, I(z), label = \"Actual Current\")\n",
    "plt.legend(loc = \"upper left\")\n",
    "#ylim(-7e-11, 7e-11)\n",
    "#xlim(2.5, 7)"
   ]
  },
  {
   "cell_type": "code",
   "execution_count": null,
   "metadata": {},
   "outputs": [],
   "source": [
    "def I(z):\n",
    "    #return -1.9e-9*exp(-1.4*(z-5.6)**2) + 2e-9*exp(-2.15*(z-5.7)**2) + -.04e-9*exp(-5*(z-7.5)**2)\n",
    "    #return 5e-10*exp(-2.15*(z-5.7)**2)\n",
    "    return 5e-10*exp(-(z-5.7)**2/1)\n",
    "asc_rate = .00444\n",
    "z0 = 0\n",
    "dz = 1\n",
    "payloads = 2\n",
    "delay = 100\n",
    "startTime = 0\n",
    "dt = 10\n",
    "LightningTimes =[1500] #[1400]\n",
    "LightningMag =[-100] #[-50]\n",
    "LightningPos =[5.5] #[5.7]\n",
    "LightningWidth =[.5] #[.5]\n",
    "a, b, c, d, e = sim.RunSimulation(asc_rate, z0, dz, payloads, delay, startTime, dt, I, LightningTimes, LightningMag, LightningPos, LightningWidth)\n",
    "#sim.MakePlotsReversed(a, b, c, payloads)\n",
    "#sim.MakePlots(a, b, c, payloads)\n",
    "anim = sim.RunAnimation(a, b, d, e)\n",
    "anim\n",
    "#sim.SaveAnimationGif(anim)"
   ]
  },
  {
   "cell_type": "code",
   "execution_count": null,
   "metadata": {},
   "outputs": [],
   "source": [
    "def I(z):\n",
    "    #return -1.9e-9*exp(-1.4*(z-5.6)**2) + 2e-9*exp(-2.15*(z-5.7)**2) + -.04e-9*exp(-5*(z-7.5)**2)\n",
    "    #return 5e-10*exp(-2.15*(z-5.7)**2)\n",
    "    return - 4e-10*exp(-(z-4)**2/.4) + 5e-10*exp(-(z-5.7)**2/.5) - 2e-10*exp(-5*(z-7.5)**2/.3)\n",
    "asc_rate = .00444\n",
    "z0 = 0\n",
    "dz = 1\n",
    "payloads = 2\n",
    "delay = 300\n",
    "startTime = 0\n",
    "dt = 10\n",
    "LightningTimes =[1200]\n",
    "LightningMag =-100\n",
    "LightningPos =5.7\n",
    "LightningWidth =.5 \n",
    "guessMagLower =-3e-10\n",
    "guessWidthLower =.5\n",
    "guessLocLower = 3.6\n",
    "guessMagMid = 6e-10\n",
    "guessWidthMid = .4\n",
    "guessLocMid = 5.7\n",
    "guessMagHigh = -2e-10\n",
    "guessWidthHigh = .3\n",
    "guessLocHigh = 7.5\n",
    "a, b, c, d, e = sim.RunSimulation(asc_rate, z0, dz, payloads, delay, startTime, dt, I, LightningTimes, [LightningMag], [LightningPos], [LightningWidth])\n",
    "plot(b[0], a[0])\n",
    "LightningTimes =1200\n",
    "LightningMag =-100\n",
    "LightningPos =5.6\n",
    "LightningWidth =.4\n",
    "sim.CurveFitLightning(a, b, delay, asc_rate, z0, dz, payloads, startTime, dt, LightningTimes, LightningMag,LightningPos,LightningWidth, guessMagLower, guessWidthLower, guessLocLower, guessMagMid, guessWidthMid, guessLocMid, guessMagHigh, guessWidthHigh, guessLocHigh)"
   ]
  },
  {
   "cell_type": "markdown",
   "metadata": {
    "scrolled": false
   },
   "source": [
    "def I(z):\n",
    "    #return -1.9e-9*exp(-1.4*(z-5.6)**2) + 2e-9*exp(-2.15*(z-5.7)**2) + -.04e-9*exp(-5*(z-7.5)**2)\n",
    "    return 1e-9*exp(-2.15*(z-5.7)**2)\n",
    "asc_rate = .00444\n",
    "z0 = 0\n",
    "dz = 1\n",
    "payloads = 1\n",
    "delay = 0\n",
    "startTime = 0\n",
    "dt = 10\n",
    "LightningTimes = [800, 1000, 1200, 1400, 1700, 1800]\n",
    "LightningMag = [-40, -50, -40, -30, -33, -20]\n",
    "LightningPos = [5.3, 5.7, 6, 5.8, 5.5, 5.7]\n",
    "LightningWidth = [.2, .2, .2, .2, .2, .2]\n",
    "a, b, c, d, e = sim.RunSimulation(asc_rate, z0, dz, payloads, delay, startTime, dt, I, LightningTimes, LightningMag, LightningPos, LightningWidth)\n",
    "sim.MakePlots(a, b, c, payloads)\n",
    "anim = sim.RunAnimation(a, b, d, e)\n",
    "anim\n",
    "sim.SaveAnimationGif(anim)"
   ]
  },
  {
   "cell_type": "markdown",
   "metadata": {},
   "source": [
    "# Infer Current Test"
   ]
  },
  {
   "cell_type": "code",
   "execution_count": null,
   "metadata": {},
   "outputs": [],
   "source": [
    "def I(z):\n",
    "    #return -1.9e-9*exp(-1.4*(z-5.6)**2) + 2e-9*exp(-2.15*(z-5.7)**2) + -.04e-9*exp(-5*(z-7.5)**2)\n",
    "    #return 5e-10*exp(-2.15*(z-5.7)**2)\n",
    "    return - 4e-10*exp(-(z-4)**4/.4) + 5e-10*exp(-(z-5.7)**4/.5) - 2e-10*exp(-5*(z-7.5)**4/.3)\n",
    "asc_rate = .00444\n",
    "z0 = 0\n",
    "dz = 1\n",
    "payloads = 2\n",
    "delay = 300\n",
    "startTime = 0\n",
    "dt = 10\n",
    "LightningTimes =[800] #[1400]\n",
    "LightningMag =[-50] #[-50]\n",
    "LightningPos =[5.7] #[5.7]\n",
    "LightningWidth =[.5] #[.5]\n",
    "guessMagLower =-2e-10\n",
    "guessWidthLower =.2\n",
    "guessLocLower = 3\n",
    "guessMagMid = 3e-10\n",
    "guessWidthMid = .7\n",
    "guessLocMid = 6.2\n",
    "guessMagHigh = -1e-10\n",
    "guessWidthHigh = .2\n",
    "guessLocHigh = 6.7\n",
    "a, b, c, d, e = sim.RunSimulation(asc_rate, z0, dz, payloads, delay, startTime, dt, I, LightningTimes, LightningMag, LightningPos, LightningWidth)\n",
    "LightningTimes = [800]\n",
    "LightningMag = [-50]\n",
    "LightningPos = [5.7]\n",
    "LightningWidth = [.5]\n",
    "sim.CurveFit(a, b, delay, asc_rate, z0, dz, payloads, startTime, dt, LightningTimes, LightningMag,LightningPos,LightningWidth, guessMagLower, guessWidthLower, guessLocLower, guessMagMid, guessWidthMid, guessLocMid, guessMagHigh, guessWidthHigh, guessLocHigh)\n",
    "#xlim(0,10)\n",
    "plt.plot(b[0], a[0], linewidth = 1)\n",
    "xlim(0, 10)"
   ]
  },
  {
   "cell_type": "code",
   "execution_count": null,
   "metadata": {},
   "outputs": [],
   "source": [
    "def I(z):\n",
    "    #return -1.9e-9*exp(-1.4*(z-5.6)**2) + 2e-9*exp(-2.15*(z-5.7)**2) + -.04e-9*exp(-5*(z-7.5)**2)\n",
    "    #return 5e-10*exp(-2.15*(z-5.7)**2)\n",
    "    return - 4e-10*exp(-(z-4)**2/.4) + 5e-10*exp(-(z-5.7)**2/.5) - 2e-10*exp(-5*(z-7.5)**2/.3)\n",
    "asc_rate = .00444\n",
    "z0 = 0\n",
    "dz = 1\n",
    "payloads = 2\n",
    "delay = 300\n",
    "startTime = 0\n",
    "dt = 10\n",
    "LightningTimes =[1200] #[1400]\n",
    "LightningMag =[-50] #[-50]\n",
    "LightningPos =[5.7] #[5.7]\n",
    "LightningWidth =[.5] #[.5]\n",
    "guessMagLower =-4e-10\n",
    "guessWidthLower =.4\n",
    "guessLocLower = 4\n",
    "guessMagMid = 5e-10\n",
    "guessWidthMid = .5\n",
    "guessLocMid = 5.7\n",
    "guessMagHigh = -2e-10\n",
    "guessWidthHigh = .3\n",
    "guessLocHigh = 7.5\n",
    "a, b, c, d, e = sim.RunSimulation(asc_rate, z0, dz, payloads, delay, startTime, dt, I, LightningTimes, LightningMag, LightningPos, LightningWidth)\n",
    "LightningTimes =[1200]\n",
    "LightningMag =[-50]\n",
    "LightningPos =[5.7]\n",
    "LightningWidth =[.5]\n",
    "sim.CurveFit(a, b, delay, asc_rate, z0, dz, payloads, startTime, dt, LightningTimes, LightningMag,LightningPos,LightningWidth, guessMagLower, guessWidthLower, guessLocLower, guessMagMid, guessWidthMid, guessLocMid, guessMagHigh, guessWidthHigh, guessLocHigh)\n",
    "#xlim(0,10)\n",
    "plt.plot(b[0], a[0], linewidth = 1)\n",
    "xlim(0, 10)"
   ]
  },
  {
   "cell_type": "code",
   "execution_count": null,
   "metadata": {},
   "outputs": [],
   "source": [
    "def I(z):\n",
    "    #return -1.9e-9*exp(-1.4*(z-5.6)**2) + 2e-9*exp(-2.15*(z-5.7)**2) + -.04e-9*exp(-5*(z-7.5)**2)\n",
    "    #return 5e-10*exp(-2.15*(z-5.7)**2)\n",
    "    return - 4e-10*exp(-(z-4)**2/.4) + 5e-10*exp(-(z-5.7)**2/.5) - 2e-10*exp(-5*(z-7.5)**2/.3)\n",
    "asc_rate = .00444\n",
    "z0 = 0\n",
    "dz = 1\n",
    "payloads = 2\n",
    "delay = 300\n",
    "startTime = 0\n",
    "dt = 10\n",
    "LightningTimes =[1000] #[1400]\n",
    "LightningMag =[-100] #[-50]\n",
    "LightningPos =[5.7] #[5.7]\n",
    "LightningWidth =[.5] #[.5]\n",
    "guessMagLower =-2e-10\n",
    "guessWidthLower =.2\n",
    "guessLocLower = 3\n",
    "guessMagMid = 2e-10\n",
    "guessWidthMid = .2\n",
    "guessLocMid = 5\n",
    "guessMagHigh = -.5e-10\n",
    "guessWidthHigh = .5\n",
    "guessLocHigh = 7\n",
    "a, b, c, d, e = sim.RunSimulation(asc_rate, z0, dz, payloads, delay, startTime, dt, I, LightningTimes, LightningMag, LightningPos, LightningWidth)\n",
    "LightningTimes =[1000]\n",
    "LightningMag =[-100]\n",
    "LightningPos =[5.7]\n",
    "LightningWidth =[.5]\n",
    "sim.CurveFit(a, b, delay, asc_rate, z0, dz, payloads, startTime, dt, LightningTimes, LightningMag,LightningPos,LightningWidth, guessMagLower, guessWidthLower, guessLocLower, guessMagMid, guessWidthMid, guessLocMid, guessMagHigh, guessWidthHigh, guessLocHigh)\n",
    "#xlim(0,10)\n",
    "plt.plot(b[0], a[0], linewidth = 1)\n",
    "xlim(0, 10)"
   ]
  },
  {
   "cell_type": "code",
   "execution_count": null,
   "metadata": {
    "scrolled": false
   },
   "outputs": [],
   "source": [
    "def I(z):\n",
    "    #return -1.9e-9*exp(-1.4*(z-5.6)**2) + 2e-9*exp(-2.15*(z-5.7)**2) + -.04e-9*exp(-5*(z-7.5)**2)\n",
    "    #return 5e-10*exp(-2.15*(z-5.7)**2)\n",
    "    return 5e-10*exp(-(z-5.7)**2/.5)\n",
    "asc_rate = .00444\n",
    "z0 = 0\n",
    "dz = 1\n",
    "payloads = 2\n",
    "delay = 300\n",
    "startTime = 0\n",
    "dt = 10\n",
    "LightningTimes =[150] #[1400]\n",
    "LightningMag =[-50] #[-50]\n",
    "LightningPos =[6] #[5.7]\n",
    "LightningWidth =[.5] #[.5]\n",
    "a, b, c, d, e = sim.RunSimulation(asc_rate, z0, dz, payloads, delay, startTime, dt, I, LightningTimes, LightningMag, LightningPos, LightningWidth)\n",
    "#sim.MakePlotsReversed(a, b, c, payloads)\n",
    "#sim.MakePlots(a, b, c, payloads)\n",
    "#anim = sim.RunAnimation(a, b, d, e)\n",
    "#anim\n",
    "center, mag, width = sim.InferCurrent(a, b, c, 300, 10)\n",
    "\n",
    "def I(z):\n",
    "    return mag*exp(-(z-center)**2/(width))\n",
    "asc_rate = .00444\n",
    "z0 = 0\n",
    "dz = 1\n",
    "payloads = 2\n",
    "delay = 300\n",
    "startTime = 0\n",
    "dt = 10\n",
    "LightningTimes =[150]\n",
    "LightningMag =[-50]\n",
    "LightningPos =[6]\n",
    "LightningWidth =[.5]\n",
    "f, g, h, i, j = sim.RunSimulation(asc_rate, z0, dz, payloads, delay, startTime, dt, I, LightningTimes, LightningMag, LightningPos, LightningWidth)\n",
    "sim.PlotMultipleSims(a, b, c, f, g, h, 1)"
   ]
  },
  {
   "cell_type": "code",
   "execution_count": null,
   "metadata": {
    "scrolled": true
   },
   "outputs": [],
   "source": [
    "def I(z):\n",
    "    #return -1.9e-9*exp(-1.4*(z-5.6)**2) + 2e-9*exp(-2.15*(z-5.7)**2) + -.04e-9*exp(-5*(z-7.5)**2)\n",
    "    #return 5e-10*exp(-2.15*(z-5.7)**2)\n",
    "    return 5e-10*exp(-(z-5.7)**2/.5)\n",
    "asc_rate = .00444\n",
    "z0 = 0\n",
    "dz = 1\n",
    "payloads = 2\n",
    "delay = 300\n",
    "startTime = 0\n",
    "dt = 10\n",
    "LightningTimes =[] #[1400]\n",
    "LightningMag =[] #[-50]\n",
    "LightningPos =[] #[5.7]\n",
    "LightningWidth =[] #[.5]\n",
    "a, b, c, d, e = sim.RunSimulation(asc_rate, z0, dz, payloads, delay, startTime, dt, I, LightningTimes, LightningMag, LightningPos, LightningWidth)\n",
    "plot(sim.CurrentAltitude(a, b, c, delay)['I'])"
   ]
  },
  {
   "cell_type": "code",
   "execution_count": null,
   "metadata": {},
   "outputs": [],
   "source": [
    "def I(z):\n",
    "    #return -1.9e-9*exp(-1.4*(z-5.6)**2) + 2e-9*exp(-2.15*(z-5.7)**2) + -.04e-9*exp(-5*(z-7.5)**2)\n",
    "    #return 5e-10*exp(-2.15*(z-5.7)**2)\n",
    "    return 5e-10*exp(-(z-5.7)**2/.5) - 1e-10*exp(-(z-7)**2/.5)\n",
    "asc_rate = .00444\n",
    "z0 = 0\n",
    "dz = 1\n",
    "payloads = 2\n",
    "delay = 300\n",
    "startTime = 0\n",
    "dt = 10\n",
    "LightningTimes =[] #[1400]\n",
    "LightningMag =[] #[-50]\n",
    "LightningPos =[] #[5.7]\n",
    "LightningWidth =[] #[.5]\n",
    "a, b, c, d, e = sim.RunSimulation(asc_rate, z0, dz, payloads, delay, startTime, dt, I, LightningTimes, LightningMag, LightningPos, LightningWidth)\n",
    "#sim.MakePlotsReversed(a, b, c, payloads)\n",
    "#sim.MakePlots(a, b, c, payloads)\n",
    "#anim = sim.RunAnimation(a, b, d, e)\n",
    "#anim\n",
    "center, mag, width, center2, mag2, width2 = sim.Infer2Currents(a, b, c, 300, 10)\n",
    "\n",
    "def I(z):\n",
    "    return mag*exp(-(z-center)**2/(width)) + mag2*exp(-(z-center2)**2/(width2))\n",
    "asc_rate = .00444\n",
    "z0 = 0\n",
    "dz = 1\n",
    "payloads = 2\n",
    "delay = 300\n",
    "startTime = 0\n",
    "dt = 10\n",
    "LightningTimes =[]\n",
    "LightningMag =[]\n",
    "LightningPos =[]\n",
    "LightningWidth =[]\n",
    "f, g, h, i, j = sim.RunSimulation(asc_rate, z0, dz, payloads, delay, startTime, dt, I, LightningTimes, LightningMag, LightningPos, LightningWidth)\n",
    "sim.PlotMultipleSims(a, b, c, f, g, h, 1)"
   ]
  },
  {
   "cell_type": "markdown",
   "metadata": {},
   "source": [
    "# Lightning Between Both Payloads"
   ]
  },
  {
   "cell_type": "markdown",
   "metadata": {},
   "source": [
    "Make plots with more payloads, slightly smaller variations in lightning parameters, more simulation-simulation comparisons. Infer what the current of a storm is based on the change in electric field? Maybe put in random number generators at some point"
   ]
  },
  {
   "cell_type": "code",
   "execution_count": null,
   "metadata": {
    "scrolled": false
   },
   "outputs": [],
   "source": [
    "def I(z):\n",
    "    #return -1.9e-9*exp(-1.4*(z-5.6)**2) + 2e-9*exp(-2.15*(z-5.7)**2) + -.04e-9*exp(-5*(z-7.5)**2)\n",
    "    return 5e-10*exp(-2.15*(z-5.7)**2)\n",
    "    #return 5e-10*exp(-(z-5.7)**2/2*.48224**2)\n",
    "asc_rate = .00444\n",
    "z0 = 0\n",
    "dz = 1\n",
    "payloads = 2\n",
    "delay = 1400-1167\n",
    "startTime = 0\n",
    "dt = 10\n",
    "LightningTimes =[1400]\n",
    "LightningMag =[-50]\n",
    "LightningPos =[5.7]\n",
    "LightningWidth =[.5]\n",
    "a, b, c, d, e = sim.RunSimulation(asc_rate, z0, dz, payloads, delay, startTime, dt, I, LightningTimes, LightningMag, LightningPos, LightningWidth)\n",
    "#sim.MakePlotsReversed(a, b, c, payloads)\n",
    "sim.MakePlots(a, b, c, payloads)\n",
    "#anim = sim.RunAnimation(a, b, d, e)\n",
    "#anim"
   ]
  },
  {
   "cell_type": "markdown",
   "metadata": {},
   "source": [
    "In this plot, the lightning strike occurs when both payloads are inside the negative charge region. Both payloads record a drastic change in the electric field. Since payload 1 was leaving the center of the negative charge region, the electric field it records doesn't increase again after the strike. Since payload 2 was entering the center of the negative charge region, the electric field suddenly shot down once the lightning strike occured, but then started to increase again as the payload reached the center of the negative charge region."
   ]
  },
  {
   "cell_type": "code",
   "execution_count": null,
   "metadata": {},
   "outputs": [],
   "source": [
    "def I(z):\n",
    "    return -1e-9*exp(-2*(z-4.5)**2) + 2e-9*exp(-2*(z-5.5)**2) + -1.5e-9*exp(-2*(z-6.5)**2)\n",
    "    #return 5e-10*exp(-2.15*(z-5.7)**2)\n",
    "    #return 5e-10*exp(-(z-5.7)**2/2*.48224**2)\n",
    "asc_rate = .00444\n",
    "z0 = 0\n",
    "dz = 1\n",
    "payloads = 1\n",
    "delay = 1400-1167\n",
    "startTime = 0\n",
    "dt = 10\n",
    "LightningTimes = []\n",
    "LightningMag = []\n",
    "LightningPos = []\n",
    "LightningWidth = []\n",
    "a, b, c, d, e = sim.RunSimulation(asc_rate, z0, dz, payloads, delay, startTime, dt, I, LightningTimes, LightningMag, LightningPos, LightningWidth)\n",
    "#sim.MakePlotsReversed(a, b, c, payloads)\n",
    "sim.MakePlots(a, b, c, payloads)\n",
    "#anim = sim.RunAnimation(a, b, d, e)\n",
    "#anim\n",
    "#sim.SaveAnimationGif(anim)"
   ]
  },
  {
   "cell_type": "code",
   "execution_count": null,
   "metadata": {},
   "outputs": [],
   "source": [
    "def I(z):\n",
    "    #return -1.9e-9*exp(-1.4*(z-5.6)**2) + 2e-9*exp(-2.15*(z-5.7)**2) + -.04e-9*exp(-5*(z-7.5)**2)\n",
    "    return 5e-10*exp(-2.15*(z-5.7)**2)\n",
    "    #return 5e-10*exp(-(z-5.7)**2/2*.48224**2)\n",
    "asc_rate = .00444\n",
    "z0 = 0\n",
    "dz = 1\n",
    "payloads = 2\n",
    "delay = 1400-1167\n",
    "startTime = 0\n",
    "dt = 10\n",
    "LightningTimes = [1400]\n",
    "LightningMag = [-50]\n",
    "LightningPos = [5.7]\n",
    "LightningWidth = [2]\n",
    "a, b, c, d, e = sim.RunSimulation(asc_rate, z0, dz, payloads, delay, startTime, dt, I, LightningTimes, LightningMag, LightningPos, LightningWidth)\n",
    "sim.MakePlots(a, b, c, payloads)\n",
    "#plt.axes().set_aspect(30000)\n",
    "anim = sim.RunAnimation(a, b, d, e)\n",
    "anim"
   ]
  },
  {
   "cell_type": "code",
   "execution_count": null,
   "metadata": {},
   "outputs": [],
   "source": [
    "sim.SaveAnimationGif(anim)"
   ]
  },
  {
   "cell_type": "code",
   "execution_count": null,
   "metadata": {},
   "outputs": [],
   "source": [
    "sim.SaveAnimationHTML(anim)"
   ]
  },
  {
   "cell_type": "markdown",
   "metadata": {},
   "source": [
    "# Lightning Far Above Both Payloads"
   ]
  },
  {
   "cell_type": "markdown",
   "metadata": {},
   "source": [
    "In this plot, the lightning strike happens before the payloads get inside the storm, and it's too narrow for either payload to detect a sudden change in the electric field. In this circumstance, it's practically impossible to tell that a lightning strike took place at all."
   ]
  },
  {
   "cell_type": "code",
   "execution_count": null,
   "metadata": {},
   "outputs": [],
   "source": [
    "def I(z):\n",
    "    #return -1.9e-9*exp(-1.4*(z-5.6)**2) + 2e-9*exp(-2.15*(z-5.7)**2) + -.04e-9*exp(-5*(z-7.5)**2)\n",
    "    return 5e-10*exp(-2.15*(z-5.7)**2)\n",
    "asc_rate = .00444\n",
    "z0 = 0\n",
    "dz = 1\n",
    "payloads = 2\n",
    "delay = 400\n",
    "startTime = 0\n",
    "dt = 10\n",
    "LightningTimes = [800]\n",
    "LightningMag = [-50]\n",
    "LightningPos = [5.7]\n",
    "LightningWidth = [1]\n",
    "a, b, c, d, e = sim.RunSimulation(asc_rate, z0, dz, payloads, delay, startTime, dt, I, LightningTimes, LightningMag, LightningPos, LightningWidth)\n",
    "sim.MakePlots(a, b, c, payloads)\n",
    "sim.RunAnimation(a, b, d, e)"
   ]
  },
  {
   "cell_type": "markdown",
   "metadata": {},
   "source": [
    "In this plot, the lightning strike is barely large enough to effect payload one, which shows a slight sudden change in the electric field. However, the lightning strike wasn't large enough to affect payload two, which doesn't record a sudden change in the electric field. Instead, payload two records the aftermath of the lightning strike."
   ]
  },
  {
   "cell_type": "code",
   "execution_count": null,
   "metadata": {},
   "outputs": [],
   "source": [
    "def I(z):\n",
    "    #return -1.9e-9*exp(-1.4*(z-5.6)**2) + 2e-9*exp(-2.15*(z-5.7)**2) + -.04e-9*exp(-5*(z-7.5)**2)\n",
    "    return 5e-10*exp(-2.15*(z-5.7)**2)\n",
    "asc_rate = .00444\n",
    "z0 = 0\n",
    "dz = 1\n",
    "payloads = 2\n",
    "delay = 400\n",
    "startTime = 0\n",
    "dt = 10\n",
    "LightningTimes = [800]\n",
    "LightningMag = [-50]\n",
    "LightningPos = [5.7]\n",
    "LightningWidth = [1.5]\n",
    "a, b, c, d, e = sim.RunSimulation(asc_rate, z0, dz, payloads, delay, startTime, dt, I, LightningTimes, LightningMag, LightningPos, LightningWidth)\n",
    "sim.MakePlots(a, b, c, payloads)\n",
    "sim.RunAnimation(a, b, d, e)"
   ]
  },
  {
   "cell_type": "markdown",
   "metadata": {},
   "source": [
    "In this plot, the lightning strike is wider than the last plot, so it strongly affects payload one, and slightly affects payload two."
   ]
  },
  {
   "cell_type": "markdown",
   "metadata": {},
   "source": [
    "# Lightning Above Both Payloads"
   ]
  },
  {
   "cell_type": "code",
   "execution_count": null,
   "metadata": {},
   "outputs": [],
   "source": [
    "def I(z):\n",
    "    #return -1.9e-9*exp(-1.4*(z-5.6)**2) + 2e-9*exp(-2.15*(z-5.7)**2) + -.04e-9*exp(-5*(z-7.5)**2)\n",
    "    return 5e-10*exp(-2.15*(z-5.7)**2)\n",
    "asc_rate = .00444\n",
    "z0 = 0\n",
    "dz = 1\n",
    "payloads = 2\n",
    "delay = 400\n",
    "startTime = 0\n",
    "dt = 10\n",
    "LightningTimes = [1100]\n",
    "LightningMag = [-50]\n",
    "LightningPos = [5.7]\n",
    "LightningWidth = [.5]\n",
    "a, b, c, d, e = sim.RunSimulation(asc_rate, z0, dz, payloads, delay, startTime, dt, I, LightningTimes, LightningMag, LightningPos, LightningWidth)\n",
    "sim.MakePlots(a, b, c, payloads)\n",
    "sim.RunAnimation(a, b, d, e)"
   ]
  },
  {
   "cell_type": "code",
   "execution_count": null,
   "metadata": {},
   "outputs": [],
   "source": [
    "def I(z):\n",
    "    #return -1.9e-9*exp(-1.4*(z-5.6)**2) + 2e-9*exp(-2.15*(z-5.7)**2) + -.04e-9*exp(-5*(z-7.5)**2)\n",
    "    return 5e-10*exp(-2.15*(z-5.7)**2)\n",
    "asc_rate = .00444\n",
    "z0 = 0\n",
    "dz = 1\n",
    "payloads = 2\n",
    "delay = 400\n",
    "startTime = 0\n",
    "dt = 10\n",
    "LightningTimes = [1100]\n",
    "LightningMag = [-50]\n",
    "LightningPos = [5.7]\n",
    "LightningWidth = [1]\n",
    "a, b, c, d, e = sim.RunSimulation(asc_rate, z0, dz, payloads, delay, startTime, dt, I, LightningTimes, LightningMag, LightningPos, LightningWidth)\n",
    "sim.MakePlots(a, b, c, payloads)\n",
    "sim.RunAnimation(a, b, d, e)"
   ]
  },
  {
   "cell_type": "markdown",
   "metadata": {},
   "source": [
    "# Lightning Below Both Payloads"
   ]
  },
  {
   "cell_type": "code",
   "execution_count": null,
   "metadata": {},
   "outputs": [],
   "source": [
    "def I(z):\n",
    "    #return -1.9e-9*exp(-1.4*(z-5.6)**2) + 2e-9*exp(-2.15*(z-5.7)**2) + -.04e-9*exp(-5*(z-7.5)**2)\n",
    "    return 5e-10*exp(-2.15*(z-5.7)**2)\n",
    "asc_rate = .00444\n",
    "z0 = 0\n",
    "dz = 1\n",
    "payloads = 2\n",
    "delay = 500\n",
    "startTime = 0\n",
    "dt = 10\n",
    "LightningTimes = [2000]\n",
    "LightningMag = [-50]\n",
    "LightningPos = [5.7]\n",
    "LightningWidth = [1]\n",
    "a, b, c, d, e = sim.RunSimulation(asc_rate, z0, dz, payloads, delay, startTime, dt, I, LightningTimes, LightningMag, LightningPos, LightningWidth)\n",
    "sim.MakePlots(a, b, c, payloads)\n",
    "#plt.axes().set_aspect(30000)\n",
    "sim.RunAnimation(a, b, d, e)"
   ]
  },
  {
   "cell_type": "markdown",
   "metadata": {},
   "source": [
    "In this plot, the lightning strike happens while both the payloads are above it. The lightning strike is fairly narrow, so payload one doesn't record any significant change in the electric field. Payload two, however, does record a sudden change."
   ]
  },
  {
   "cell_type": "code",
   "execution_count": null,
   "metadata": {},
   "outputs": [],
   "source": [
    "def I(z):\n",
    "    #return -1.9e-9*exp(-1.4*(z-5.6)**2) + 2e-9*exp(-2.15*(z-5.7)**2) + -.04e-9*exp(-5*(z-7.5)**2)\n",
    "    return 5e-10*exp(-2.15*(z-5.7)**2)\n",
    "asc_rate = .00444\n",
    "z0 = 0\n",
    "dz = 1\n",
    "payloads = 2\n",
    "delay = 500\n",
    "startTime = 0\n",
    "dt = 10\n",
    "LightningTimes = [2000]\n",
    "LightningMag = [-50]\n",
    "LightningPos = [5.7]\n",
    "LightningWidth = [2]\n",
    "a, b, c, d, e = sim.RunSimulation(asc_rate, z0, dz, payloads, delay, startTime, dt, I, LightningTimes, LightningMag, LightningPos, LightningWidth)\n",
    "sim.MakePlots(a, b, c, payloads)\n",
    "#plt.axes().set_aspect(30000)\n",
    "sim.RunAnimation(a, b, d, e)"
   ]
  },
  {
   "cell_type": "markdown",
   "metadata": {},
   "source": [
    "Like the last plot, the lightning occurs below both payloads, but here, the lightning strike is wider, so both payloads detect a sudden change in charge. Since payload two is below payload one, it detects a more drastic change."
   ]
  },
  {
   "cell_type": "markdown",
   "metadata": {},
   "source": [
    "# Width Comparison"
   ]
  },
  {
   "cell_type": "code",
   "execution_count": null,
   "metadata": {},
   "outputs": [],
   "source": [
    "def I(z):\n",
    "    #return -1.9e-9*exp(-1.4*(z-5.6)**2) + 2e-9*exp(-2.15*(z-5.7)**2) + -.04e-9*exp(-5*(z-7.5)**2)\n",
    "    return 5e-10*exp(-2.15*(z-5.7)**2)\n",
    "asc_rate = .00444\n",
    "z0 = 0\n",
    "dz = 1\n",
    "payloads = 1\n",
    "delay = 1400-1167\n",
    "startTime = 0\n",
    "dt = 10\n",
    "LightningTimes = [800]\n",
    "LightningMag = [-50]\n",
    "LightningPos = [5.7]\n",
    "LightningWidth = [.3]\n",
    "a, b, c, d, e = sim.RunSimulation(asc_rate, z0, dz, payloads, delay, startTime, dt, I, LightningTimes, LightningMag, LightningPos, LightningWidth)\n",
    "def I(z):\n",
    "    #return -1.9e-9*exp(-1.4*(z-5.6)**2) + 2e-9*exp(-2.15*(z-5.7)**2) + -.04e-9*exp(-5*(z-7.5)**2)\n",
    "    return 5e-10*exp(-2.15*(z-5.7)**2)\n",
    "asc_rate = .00444\n",
    "z0 = 0\n",
    "dz = 1\n",
    "payloads = 1\n",
    "delay = 1400-1167\n",
    "startTime = 0\n",
    "dt = 10\n",
    "LightningTimes = [800]\n",
    "LightningMag = [-50]\n",
    "LightningPos = [5.7]\n",
    "LightningWidth = [.4]\n",
    "f, g, h, i, j = sim.RunSimulation(asc_rate, z0, dz, payloads, delay, startTime, dt, I, LightningTimes, LightningMag, LightningPos, LightningWidth)\n",
    "sim.PlotMultipleSims(a, b, c, f, g, h, payloads)"
   ]
  },
  {
   "cell_type": "code",
   "execution_count": null,
   "metadata": {},
   "outputs": [],
   "source": [
    "def I(z):\n",
    "    #return -1.9e-9*exp(-1.4*(z-5.6)**2) + 2e-9*exp(-2.15*(z-5.7)**2) + -.04e-9*exp(-5*(z-7.5)**2)\n",
    "    return 5e-10*exp(-2.15*(z-5.7)**2)\n",
    "asc_rate = .00444\n",
    "z0 = 0\n",
    "dz = 1\n",
    "payloads = 1\n",
    "delay = 1400-1167\n",
    "startTime = 0\n",
    "dt = 10\n",
    "LightningTimes = [800]\n",
    "LightningMag = [-50]\n",
    "LightningPos = [5.7]\n",
    "LightningWidth = [.4]\n",
    "a, b, c, d, e = sim.RunSimulation(asc_rate, z0, dz, payloads, delay, startTime, dt, I, LightningTimes, LightningMag, LightningPos, LightningWidth)\n",
    "def I(z):\n",
    "    #return -1.9e-9*exp(-1.4*(z-5.6)**2) + 2e-9*exp(-2.15*(z-5.7)**2) + -.04e-9*exp(-5*(z-7.5)**2)\n",
    "    return 5e-10*exp(-2.15*(z-5.7)**2)\n",
    "asc_rate = .00444\n",
    "z0 = 0\n",
    "dz = 1\n",
    "payloads = 1\n",
    "delay = 1400-1167\n",
    "startTime = 0\n",
    "dt = 10\n",
    "LightningTimes = [800]\n",
    "LightningMag = [-50]\n",
    "LightningPos = [5.7]\n",
    "LightningWidth = [.55]\n",
    "f, g, h, i, j = sim.RunSimulation(asc_rate, z0, dz, payloads, delay, startTime, dt, I, LightningTimes, LightningMag, LightningPos, LightningWidth)\n",
    "sim.PlotMultipleSims(a, b, c, f, g, h, payloads)"
   ]
  },
  {
   "cell_type": "markdown",
   "metadata": {},
   "source": [
    "In this plot, simulation 2 has a larger width than simulation one. The overall shape is the same, since the lightning strikes occur at the same position and have the same magnitude. The payloads of both simulations pick up sudden changes in the electric field at the same place. However, since simulation 2's strike is wider, simulation 2's payload picks up a more drastic change than simulation 1's payload."
   ]
  },
  {
   "cell_type": "code",
   "execution_count": null,
   "metadata": {},
   "outputs": [],
   "source": [
    "def I(z):\n",
    "    #return -1.9e-9*exp(-1.4*(z-5.6)**2) + 2e-9*exp(-2.15*(z-5.7)**2) + -.04e-9*exp(-5*(z-7.5)**2)\n",
    "    return 5e-10*exp(-2.15*(z-5.7)**2)\n",
    "asc_rate = .00444\n",
    "z0 = 0\n",
    "dz = 1\n",
    "payloads = 1\n",
    "delay = 1400-1167\n",
    "startTime = 0\n",
    "dt = 10\n",
    "LightningTimes = [800]\n",
    "LightningMag = [-50]\n",
    "LightningPos = [5.7]\n",
    "LightningWidth = [1]\n",
    "a, b, c, d, e = sim.RunSimulation(asc_rate, z0, dz, payloads, delay, startTime, dt, I, LightningTimes, LightningMag, LightningPos, LightningWidth)\n",
    "def I(z):\n",
    "    #return -1.9e-9*exp(-1.4*(z-5.6)**2) + 2e-9*exp(-2.15*(z-5.7)**2) + -.04e-9*exp(-5*(z-7.5)**2)\n",
    "    return 5e-10*exp(-2.15*(z-5.7)**2)\n",
    "asc_rate = .00444\n",
    "z0 = 0\n",
    "dz = 1\n",
    "payloads = 1\n",
    "delay = 1400-1167\n",
    "startTime = 0\n",
    "dt = 10\n",
    "LightningTimes = [800]\n",
    "LightningMag = [-50]\n",
    "LightningPos = [5.7]\n",
    "LightningWidth = [1.5]\n",
    "f, g, h, i, j = sim.RunSimulation(asc_rate, z0, dz, payloads, delay, startTime, dt, I, LightningTimes, LightningMag, LightningPos, LightningWidth)\n",
    "sim.PlotMultipleSims(a, b, c, f, g, h, payloads)"
   ]
  },
  {
   "cell_type": "code",
   "execution_count": null,
   "metadata": {},
   "outputs": [],
   "source": []
  },
  {
   "cell_type": "code",
   "execution_count": null,
   "metadata": {},
   "outputs": [],
   "source": [
    "def I(z):\n",
    "    #return -1.9e-9*exp(-1.4*(z-5.6)**2) + 2e-9*exp(-2.15*(z-5.7)**2) + -.04e-9*exp(-5*(z-7.5)**2)\n",
    "    return 5e-10*exp(-2.15*(z-5.7)**2)\n",
    "    #return 5e-10*exp(-(z-5.7)**2/2*.48224**2)\n",
    "asc_rate = .00444\n",
    "z0 = 0\n",
    "dz = 1\n",
    "payloads = 2\n",
    "delay = 1400-1167\n",
    "startTime = 0\n",
    "dt = 10\n",
    "LightningTimes = [1400]\n",
    "LightningMag = [-50]\n",
    "LightningPos = [5.7]\n",
    "LightningWidth = [.5]\n",
    "a, b, c, d, e = sim.RunSimulation(asc_rate, z0, dz, payloads, delay, startTime, dt, I, LightningTimes, LightningMag, LightningPos, LightningWidth)\n",
    "def I(z):\n",
    "    #return -1.9e-9*exp(-1.4*(z-5.6)**2) + 2e-9*exp(-2.15*(z-5.7)**2) + -.04e-9*exp(-5*(z-7.5)**2)\n",
    "    return 5e-10*exp(-2.15*(z-5.7)**2)\n",
    "    #return 5e-10*exp(-(z-5.7)**2/2*.48224**2)\n",
    "asc_rate = .00444\n",
    "z0 = 0\n",
    "dz = 1\n",
    "payloads = 2\n",
    "delay = 1400-1167\n",
    "startTime = 0\n",
    "dt = 10\n",
    "LightningTimes = [1400]\n",
    "LightningMag = [-50]\n",
    "LightningPos = [5.5]\n",
    "LightningWidth = [.5]\n",
    "f, g, h, i, j = sim.RunSimulation(asc_rate, z0, dz, payloads, delay, startTime, dt, I, LightningTimes, LightningMag, LightningPos, LightningWidth)\n",
    "sim.PlotMultipleSims(a, b, c, f, g, h, payloads)"
   ]
  },
  {
   "cell_type": "code",
   "execution_count": null,
   "metadata": {},
   "outputs": [],
   "source": [
    "def I(z):\n",
    "    #return -1.9e-9*exp(-1.4*(z-5.6)**2) + 2e-9*exp(-2.15*(z-5.7)**2) + -.04e-9*exp(-5*(z-7.5)**2)\n",
    "    return 5e-10*exp(-2.15*(z-5.7)**2)\n",
    "    #return 5e-10*exp(-(z-5.7)**2/2*.48224**2)\n",
    "asc_rate = .00444\n",
    "z0 = 0\n",
    "dz = 1\n",
    "payloads = 1\n",
    "delay = 1400-1167\n",
    "startTime = 0\n",
    "dt = 10\n",
    "LightningTimes = []\n",
    "LightningMag = []\n",
    "LightningPos = []\n",
    "LightningWidth = []\n",
    "a, b, c, d, e = sim.RunSimulation(asc_rate, z0, dz, payloads, delay, startTime, dt, I, LightningTimes, LightningMag, LightningPos, LightningWidth)\n",
    "def I(z):\n",
    "    #return -1.9e-9*exp(-1.4*(z-5.6)**2) + 2e-9*exp(-2.15*(z-5.7)**2) + -.04e-9*exp(-5*(z-7.5)**2)\n",
    "    #return 5e-10*exp(-2.15*(z-5.7)**2)\n",
    "    return 5e-10*exp(-(z-5.7)**2/(2*.48224**2))\n",
    "asc_rate = .00444\n",
    "z0 = 0\n",
    "dz = 1\n",
    "payloads = 1\n",
    "delay = 1400-1167\n",
    "startTime = 0\n",
    "dt = 10\n",
    "LightningTimes = []\n",
    "LightningMag = []\n",
    "LightningPos = []\n",
    "LightningWidth = []\n",
    "f, g, h, i, j = sim.RunSimulation(asc_rate, z0, dz, payloads, delay, startTime, dt, I, LightningTimes, LightningMag, LightningPos, LightningWidth)\n",
    "sim.PlotMultipleSims(a, b, c, f, g, h, payloads)"
   ]
  },
  {
   "cell_type": "code",
   "execution_count": null,
   "metadata": {},
   "outputs": [],
   "source": []
  }
 ],
 "metadata": {
  "kernelspec": {
   "display_name": "Python 3",
   "language": "python",
   "name": "python3"
  },
  "language_info": {
   "codemirror_mode": {
    "name": "ipython",
    "version": 3
   },
   "file_extension": ".py",
   "mimetype": "text/x-python",
   "name": "python",
   "nbconvert_exporter": "python",
   "pygments_lexer": "ipython3",
   "version": "3.7.4"
  }
 },
 "nbformat": 4,
 "nbformat_minor": 2
}
