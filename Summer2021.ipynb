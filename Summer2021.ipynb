{
 "cells": [
  {
   "cell_type": "code",
   "execution_count": null,
   "metadata": {},
   "outputs": [],
   "source": [
    "import numpy as np\n",
    "import matplotlib.pyplot as plt\n",
    "import matplotlib.animation as animation\n",
    "import pandas as pd\n",
    "import math\n",
    "import random\n",
    "plt.rcParams[\"animation.html\"] = \"jshtml\"\n",
    "%pylab inline\n",
    "b = pd.read_csv(\"stolzenburg_marshall.csv\")"
   ]
  },
  {
   "cell_type": "code",
   "execution_count": null,
   "metadata": {},
   "outputs": [],
   "source": [
    "#Define Constants\n",
    "n = 360\n",
    "tmax = 4600\n",
    "dt = 10 #seconds. why is there a dt here? doesn't make sense\n",
    "e0 = 8.854187817e-12\n",
    "asc_rate = .00444 \n",
    "z0 = 7.2 #storm centered at 7 km altitude. need to adjust linspace so this works\n",
    "dz = 100 # assuming storm is 100 km wide. this is wrong. i'm simultaneously assuming a finite and infinite width\n",
    "\n",
    "#Set Altitude\n",
    "z = linspace(0,16,n+1) #\"n+1\" creates a layer with width 1/n\n",
    "threshold = 2.84e5*exp(-z[1:]/8) #2.84e5 is the base Electric Field required for Relativistic Electron Avalanche\n",
    "#threshold presumably scales off of atmospheric density\n",
    "#Define Functions\n",
    "def f(z): #Function for Current. not quite sure what to do with it. it is proportional to this, however...\n",
    "    #return -.3e-9*exp(-0.5*(z-4)**2) + 1.5e-9*exp(-.75*(z-7.5)**2) + -.5e-9*exp(-0.75*(z-13.75)**2)\n",
    "    return 1e-7*exp(-(z-z0)**2/(2*dz**2))   #z0, dz probably not changed. this is also unitless.. needs fixing\n",
    "#.00000 whatever is just so i can compare this with given data\n",
    "def calcField(sigma):\n",
    "    return A.dot(sigma) #Dot product between \"A\" and Charge Density. this seems to be ok for now\n",
    "\n",
    "def discharge(sigma,E): #according to NSF proposal, lightning can be \"crudely\" modeled as a process that\n",
    "                        #decreases sigma by a random fraction triggered randomly when E is above threshold\n",
    "    for i in range(n):\n",
    "        if any(abs(E[i]) >= threshold[i]):  # if any electric field is above the E required for lightning\n",
    "            lightning_dis = 1e-9 #sigma[i] * random.uniform(.1, .9)  # lightning discharge is a certain fraction of sigma\n",
    "            sigma[i] = sigma[i] - sign(sigma[i])*lightning_dis     # lightning discharge immediately removes a fraction of sigma\n",
    "            # chance of lightning discharge should be random, but I want to focus on getting actual discharge working first\n",
    "            if (n < 360):\n",
    "                 sigma[i+1] = sigma[i+1] + sign(sigma[i+1])*1/2*lightning_dis\n",
    "                 sigma[i-1] = sigma[i-1] + sign(sigma[i-1])*1/2*lightning_dis\n",
    "            else:\n",
    "                 sigma[i-1]=sigma[i-1] + sign(sigma[i-1])*lightning_dis\n",
    "            E = calcField(sigma)   # E is recalculated\n",
    "I = f(z)   # this seems ok\n",
    "\n",
    "#Matrix used to calculate the Electric Field from the Charge Density\n",
    "a = -tri(n, k=n) + tri(n) + tri(n,k=-1)   #not sure 3 tri functions are necessary... is one ok??\n",
    "A = a*(1/(2*e0)) #Electric field of a sheet of charge (probably not fringe field)"
   ]
  },
  {
   "cell_type": "code",
   "execution_count": null,
   "metadata": {},
   "outputs": [],
   "source": [
    "#Reset the time for every run through of the simulation\n",
    "t = 0 #seconds\n",
    "\n",
    "#Define Arrays and Lists\n",
    "E = np.zeros(n) #Creates an array of \"n\" values... stays consistent with layer width\n",
    "sigma = np.zeros(n) #Same reason as above\n",
    "E_field = [] #Library for Electric Field profiles at each time step\n",
    "sigma_array = [] #Library for Charge Density profiles at each time step\n",
    "\n",
    "while t < tmax:\n",
    "    sigma = sigma - diff(I)*dt\n",
    "\n",
    "    #Electric Field\n",
    "    E = calcField(sigma)\n",
    "    E_field.append(copy(E))\n",
    "        \n",
    "    #For Lightning Discharges\n",
    "    discharge(sigma,E)\n",
    "                \n",
    "    sigma_array.append(copy(sigma))\n",
    "    t = t + dt"
   ]
  },
  {
   "cell_type": "code",
   "execution_count": null,
   "metadata": {},
   "outputs": [],
   "source": [
    "#For data collection\n",
    "t = 0\n",
    "payloads = 1 #Number of data collections\n",
    "delay = 1000\n",
    "jj = 0\n",
    "balloon_z = empty(payloads)\n",
    "\n",
    "#Set Payload Release Times\n",
    "release_time = [[] for i in range(payloads)]\n",
    "for j in range(payloads):\n",
    "    release_time[j].append(30*j + delay) #Release payloads every 30 seconds, starting after a specified delay\n",
    "\n",
    "#Define Starting Altitude for Payloads\n",
    "for j in range(payloads):\n",
    "    balloon_z[j] = 0\n",
    "\n",
    "stored_data = [[] for i in range(payloads)]\n",
    "stored_height = [[] for i in range(payloads)]\n",
    "stored_time = [[] for i in range(payloads)]\n",
    "\n",
    "while t < tmax:\n",
    "    balloon_data = empty((tmax-delay)//dt)\n",
    "    for j in range(payloads):\n",
    "        if t > release_time[j][0]:\n",
    "            balloon_data[j] = np.interp(balloon_z[j],z[1:],E_field[jj])\n",
    "            balloon_z[j] = balloon_z[j] + asc_rate*dt\n",
    "            stored_data[j].append(balloon_data[j])\n",
    "            stored_height[j].append(balloon_z[j])\n",
    "            stored_time[j].append(t)\n",
    "    jj = jj + 1  \n",
    "    t = t + dt"
   ]
  },
  {
   "cell_type": "code",
   "execution_count": null,
   "metadata": {},
   "outputs": [],
   "source": [
    "for j in range(payloads):\n",
    "    plot(stored_data[j],stored_height[j], label=\"Payload \" + str([j+1]))\n",
    "plot(b['x'],b['y'],label=\"Literature Data\")\n",
    "plt.xlabel(\"E (V/m)\")\n",
    "plt.ylabel(\"Altitude (km)\")\n",
    "legend(loc=\"upper left\")\n",
    "figsize(8,8)"
   ]
  },
  {
   "cell_type": "code",
   "execution_count": null,
   "metadata": {},
   "outputs": [],
   "source": [
    "for j in range(payloads):\n",
    "    plot(stored_data[j],stored_time[j])\n",
    "plt.xlabel(\"E (V/m)\")\n",
    "plt.ylabel(\"Time (s)\")\n",
    "figsize(8,8)"
   ]
  },
  {
   "cell_type": "code",
   "execution_count": null,
   "metadata": {
    "scrolled": true
   },
   "outputs": [],
   "source": [
    "fig = plt.figure()\n",
    "ax = plt.axes(xlim=(-1e5,1e5), ylim=(0,16))\n",
    "line, = ax.plot([], [], lw=2)\n",
    "plot(b['x'],b['y'])\n",
    "plot(threshold, z[1:])\n",
    "plot(-threshold, z[1:])\n",
    "plt.xlabel(\"E (V/m)\")\n",
    "plt.ylabel(\"Altitude (km)\")\n",
    "plt.close()\n",
    "\n",
    "def init():\n",
    "    line.set_data([], [])\n",
    "    return line,\n",
    "def animate(i):\n",
    "    line.set_data(E_field[i],z[1:])\n",
    "    return line,\n",
    "\n",
    "animation.FuncAnimation(fig, animate, init_func=init, frames=360, interval=75, blit=True)\n",
    "\n",
    "#Leaving this out for now so the notebook runs well"
   ]
  },
  {
   "cell_type": "code",
   "execution_count": null,
   "metadata": {},
   "outputs": [],
   "source": []
  }
 ],
 "metadata": {
  "kernelspec": {
   "display_name": "Python 3",
   "language": "python",
   "name": "python3"
  },
  "language_info": {
   "codemirror_mode": {
    "name": "ipython",
    "version": 3
   },
   "file_extension": ".py",
   "mimetype": "text/x-python",
   "name": "python",
   "nbconvert_exporter": "python",
   "pygments_lexer": "ipython3",
   "version": "3.7.4"
  }
 },
 "nbformat": 4,
 "nbformat_minor": 2
}
