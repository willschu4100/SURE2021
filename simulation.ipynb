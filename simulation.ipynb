{
 "cells": [
  {
   "cell_type": "code",
   "execution_count": null,
   "metadata": {},
   "outputs": [],
   "source": [
    "import numpy as np\n",
    "import matplotlib.pyplot as plt\n",
    "import matplotlib.animation as animation\n",
    "import pandas as pd\n",
    "import math\n",
    "import simulation as sim\n",
    "from scipy import interpolate\n",
    "plt.rcParams[\"animation.html\"] = \"jshtml\"\n",
    "%pylab inline"
   ]
  },
  {
   "cell_type": "code",
   "execution_count": null,
   "metadata": {},
   "outputs": [],
   "source": [
    "def I(z):\n",
    "    #return -1.9e-9*exp(-1.4*(z-5.6)**2) + 2e-9*exp(-2.15*(z-5.7)**2) + -.04e-9*exp(-5*(z-7.5)**2)\n",
    "    return 5e-10*exp(-2.15*(z-5.7)**2)\n",
    "asc_rate = .00444\n",
    "z0 = 0\n",
    "dz = 1\n",
    "payloads = 1\n",
    "delay = 0\n",
    "dt = 10\n",
    "LightningTimes = [135, 400, 700]\n",
    "LightningMag = [-25, -30, -50]\n",
    "LightningPos = [4.6, 4.2, 5.2]\n",
    "LightningWidth = [.9, .9, .9]"
   ]
  },
  {
   "cell_type": "code",
   "execution_count": null,
   "metadata": {},
   "outputs": [],
   "source": [
    "a, b, c, d, e = sim.RunSimulation(asc_rate, z0, dz, payloads, delay, dt, I, LightningTimes, LightningMag, LightningPos, LightningWidth)\n",
    "sim.MakePlots(a, b, c, payloads)\n",
    "\n",
    "anim = sim.RunAnimation(a, b, d, e)\n",
    "anim"
   ]
  },
  {
   "cell_type": "code",
   "execution_count": null,
   "metadata": {},
   "outputs": [],
   "source": [
    "a, b, c, d, e = sim.RunSimulation(asc_rate, z0, dz, 3, 500, dt, I, LightningTimes, LightningMag, LightningPos, LightningWidth)\n",
    "sim.MakePlots(a, b, c, 3)\n",
    "sim.RunAnimation(a, b, d, e)"
   ]
  },
  {
   "cell_type": "code",
   "execution_count": null,
   "metadata": {},
   "outputs": [],
   "source": [
    "sim.SaveAnimationGif(anim)"
   ]
  },
  {
   "cell_type": "code",
   "execution_count": null,
   "metadata": {},
   "outputs": [],
   "source": [
    "sim.SaveAnimationHTML(anim)"
   ]
  }
 ],
 "metadata": {
  "kernelspec": {
   "display_name": "Python 3",
   "language": "python",
   "name": "python3"
  },
  "language_info": {
   "codemirror_mode": {
    "name": "ipython",
    "version": 3
   },
   "file_extension": ".py",
   "mimetype": "text/x-python",
   "name": "python",
   "nbconvert_exporter": "python",
   "pygments_lexer": "ipython3",
   "version": "3.7.4"
  }
 },
 "nbformat": 4,
 "nbformat_minor": 2
}
